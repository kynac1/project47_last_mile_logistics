{
 "cells": [
  {
   "cell_type": "code",
   "execution_count": 1,
   "metadata": {},
   "outputs": [],
   "source": [
    "using OpenStreetMapX"
   ]
  },
  {
   "cell_type": "code",
   "execution_count": 3,
   "metadata": {},
   "outputs": [
    {
     "name": "stderr",
     "output_type": "stream",
     "text": [
      "┌ Info: Read map data from cache ../resources/map.osm.cache\n",
      "└ @ OpenStreetMapX /home/michael/.julia/packages/OpenStreetMapX/jQrP5/src/parseMap.jl:97\n"
     ]
    },
    {
     "data": {
      "text/plain": [
       "MapData(OpenStreetMapX.Bounds{LLA}(-43.6147, -43.4375, 172.4768, 172.7816), Dict(38438196 => ENU(-3847.933933654612, 2615.625222017062, -1.696257893615666),32336993 => ENU(-891.6191467438883, 3039.2114393489037, -0.7877334377831176),5821753671 => ENU(6988.177284638184, -4618.612160619034, -5.497689911753696),4182330805 => ENU(5759.183939192785, -9012.471895388095, -8.975815759160469),1118394774 => ENU(-3777.4190694640547, 625.1821462983537, -1.1475016153429465),1166225896 => ENU(2518.0724756416375, 3660.1617261876017, -1.5485356135004622),1172512158 => ENU(228.04424514880643, -2694.112671201524, -0.5741722185150593),766157102 => ENU(4641.748696607358, 5072.630032289171, -3.707466289855347),4393352550 => ENU(-5903.232374626069, -1096.4009963321037, -2.8219220444429993),4175470210 => ENU(5102.0627975430525, -8703.8034506406, -7.987684985709166)…), OpenStreetMapX.Way[OpenStreetMapX.Way(4243735, [25365444, 901606001, 6110251133, 4812515826, 901606007, 4812515825, 7123950183, 1304651043, 901606010], Dict(\"name\" => \"SIster Cities Roundabout\",\"junction\" => \"roundabout\",\"highway\" => \"primary\",\"lanes\" => \"2\",\"maxspeed\" => \"50\",\"surface\" => \"asphalt\")), OpenStreetMapX.Way(4243737, [901606066, 4855519502, 4855519506, 1304650960, 6110251134, 1027156118], Dict(\"destination:ref\" => \"SH 1\",\"name\" => \"Memorial Avenue\",\"destination\" => \"City Centre\",\"oneway\" => \"yes\",\"highway\" => \"primary\",\"lanes\" => \"2\",\"maxspeed\" => \"50\",\"surface\" => \"asphalt\",\"destination:street\" => \"Memorial Avenue\")), OpenStreetMapX.Way(4727663, [4879921879, 4879921882, 7231454829, 4879921717, 4879921880], Dict(\"destination\" => \"Hornby;Timaru\",\"oneway\" => \"yes\",\"lanes\" => \"2\",\"surface\" => \"asphalt\",\"name\" => \"Russley Road\",\"horse\" => \"no\",\"ref\" => \"SH 1\",\"highway\" => \"trunk\",\"destination:ref\" => \"SH 1\",\"foot\" => \"no\"…)), OpenStreetMapX.Way(4727715, [4879921708, 5242398897, 4879921718, 4879921716, 5242398896, 5242398895, 4879921886], Dict(\"destination:ref\" => \"SH 1\",\"name\" => \"Johns Road\",\"destination\" => \"Belfast;Picton\",\"oneway\" => \"yes\",\"highway\" => \"trunk\",\"lanes\" => \"2\",\"maxspeed\" => \"80\",\"toll\" => \"no\",\"surface\" => \"asphalt\",\"ref\" => \"SH 1\"…)), OpenStreetMapX.Way(4727736, [30124511, 3965190866, 5242398864, 5242398865, 5242398866, 3965190869, 4060968843, 3965190868, 3958934011, 3965190870], Dict(\"name\" => \"Johns Road\",\"destination\" => \"Belfast;Picton\",\"oneway\" => \"yes\",\"highway\" => \"trunk\",\"lanes\" => \"2\",\"maxspeed\" => \"80\",\"toll\" => \"no\",\"surface\" => \"asphalt\",\"ref\" => \"SH 1\")), OpenStreetMapX.Way(4727737, [1647858869, 1647858823, 5017302464, 1647858830, 1647858805, 1647858808, 1647858824, 5017302463, 1647858862, 1647882487, 1647858816], Dict(\"name\" => \"Northwood Boulevard\",\"oneway\" => \"yes\",\"highway\" => \"tertiary\",\"maxspeed\" => \"50\")), OpenStreetMapX.Way(4727746, [1647858844, 1647858865, 1647858837, 1647858763, 1647882494, 6105126054, 30124721, 6105126050, 6105126058, 30124838], Dict(\"name\" => \"Main North Road\",\"destination\" => \"Belfast;Picton\",\"oneway\" => \"yes\",\"highway\" => \"trunk\",\"bicycle\" => \"yes\",\"construction:highway\" => \"primary\",\"lanes\" => \"2\",\"maxspeed\" => \"60\",\"ref\" => \"SH 74\")), OpenStreetMapX.Way(4727748, [-7550169084938525922, 30124894, 2434699430, 30124895, 3442266325], Dict(\"name\" => \"Main North Road\",\"destination\" => \"Belfast;City Centre\",\"oneway\" => \"yes\",\"highway\" => \"trunk\",\"lanes\" => \"2\",\"construction:highway\" => \"primary\",\"maxspeed\" => \"60\",\"old_ref\" => \"SH 1\",\"ref\" => \"SH 74\")), OpenStreetMapX.Way(4727757, [30124843, 30124901, 30124946, 5223135695, 6105329051, 6105329045, 30124960, 30124947, 5848324996, 5848337116, 5223135706, 30124948], Dict(\"name\" => \"Belfast Road\",\"highway\" => \"tertiary\",\"lanes\" => \"2\",\"maxspeed\" => \"50\",\"surface\" => \"chipseal\")), OpenStreetMapX.Way(4727759, [30124946, 6515998317, 30124953, 6515998316, 30124954, 30124955, 30124956, 30124957, 30124958, 30124959], Dict(\"name\" => \"Shannon Place\",\"highway\" => \"residential\",\"maxspeed\" => \"50\"))  …  OpenStreetMapX.Way(798743464, [7470218574, 7470218577, 7470218575, 7470218576], Dict(\"highway\" => \"service\",\"service\" => \"driveway\")), OpenStreetMapX.Way(798743465, [7470218573, 7470218574], Dict(\"layer\" => \"1\",\"highway\" => \"service\",\"service\" => \"driveway\",\"bridge\" => \"yes\")), OpenStreetMapX.Way(799011852, [7472770526, 7472770527, 7472770528], Dict(\"highway\" => \"service\",\"service\" => \"driveway\")), OpenStreetMapX.Way(799057635, [6103975595, 6103975596], Dict(\"highway\" => \"service\",\"service\" => \"parking_aisle\")), OpenStreetMapX.Way(799067727, [7473234672, 7473234673, 7473234674], Dict(\"highway\" => \"service\",\"service\" => \"parking_aisle\")), OpenStreetMapX.Way(799516962, [6112243899, 679645173], Dict(\"highway\" => \"service\",\"service\" => \"parking_aisle\")), OpenStreetMapX.Way(800147643, [251979547, 7483148618, 7483148619, 7483148620, 7483148621, 7483148622, 7483148623, 7483148641, 7483148624], Dict(\"highway\" => \"service\")), OpenStreetMapX.Way(800147644, [7483148641, 7483148625, 7483148626, 7483148627, 7483148628, 7483148629, 7483148630, 7483148631, 7483148632, 7483148633, 7483148634, 7483148635, 7483148636, 7483148637, 7483148638, 7483148639, 7483148640], Dict(\"highway\" => \"service\",\"service\" => \"driveway\")), OpenStreetMapX.Way(800147648, [1551608053, 7483148655, 7483148656, 7483148657], Dict(\"highway\" => \"service\",\"service\" => \"driveway\")), OpenStreetMapX.Way(800866130, [7490720440, 7490720441, 7490720442], Dict(\"highway\" => \"service\"))], Dict(32336993 => Set([4926263, 4926269]),1166888403 => Set([235764905, 101021244]),6114326600 => Set([652137219]),6113384298 => Set([652006379, 652006378]),6103426217 => Set([650665294, 650665295]),1166225896 => Set([504465245, 100953829]),6114341677 => Set([652139267, 5367985]),7404425146 => Set([792020939]),32457281 => Set([4932675]),3442379845 => Set([430920011, 337136773])…), {37680, 81797} directed simple Int64 graph, Dict(1166888403 => 10688,32336993 => 16473,6114326600 => 29846,6113384298 => 5700,6103426217 => 17625,1166225896 => 7934,6114341677 => 1732,7404425146 => 5004,32457281 => 29261,3442379845 => 29514…), Dict(9775 => 6114437365,13575 => 6103427250,35510 => 6113506352,10094 => 6202769119,22035 => 5065997289,30216 => 4930673538,34034 => 3443836047,6265 => 6103875454,32373 => 6113400829,9934 => 6102389073…), Tuple{Int64,Int64}[(6113480711, 6113480714), (252146741, 252146740), (251979134, 251979133), (31814654, 6103975745), (349353186, 349353230), (6113538713, 6113538695), (31237912, 115989216), (6101509608, 6101509606), (6112075645, 6112075637), (6105856705, 6105856706)  …  (31064749, 31811710), (4666529833, 4567928219), (6113692196, 6113692087), (6103067016, 6103067018), (32329377, 32334794), (6170036878, 6170026570), (6104786787, 1171649105), (6103883731, 6103883726), (6113692108, 6113692107), (6105553217, 6105553218)], \n",
       "  [2    ,     1]  =  21.0294\n",
       "  [1834 ,     1]  =  7.11432\n",
       "  [22123,     1]  =  10.2116\n",
       "  [1    ,     2]  =  21.0294\n",
       "  [1189 ,     2]  =  10.8553\n",
       "  [17308,     2]  =  1.75373\n",
       "  [4    ,     3]  =  107.27\n",
       "  [2898 ,     3]  =  144.863\n",
       "  [20012,     3]  =  41.2622\n",
       "  [3    ,     4]  =  107.27\n",
       "  [29227,     4]  =  90.4965\n",
       "  [30584,     4]  =  222.584\n",
       "  ⋮\n",
       "  [33074, 37667]  =  27.4154\n",
       "  [9829 , 37669]  =  85.9636\n",
       "  [16822, 37670]  =  15.6833\n",
       "  [20740, 37671]  =  47.5879\n",
       "  [16536, 37672]  =  41.965\n",
       "  [17216, 37673]  =  73.1138\n",
       "  [9845 , 37674]  =  139.692\n",
       "  [26277, 37675]  =  35.4987\n",
       "  [14961, 37676]  =  20.8148\n",
       "  [36394, 37677]  =  7.74122\n",
       "  [24359, 37678]  =  103.694\n",
       "  [34619, 37679]  =  15.1227\n",
       "  [24897, 37680]  =  89.6974, [6, 6, 5, 3, 7, 7, 4, 7, 7, 7  …  6, 6, 4, 7, 6, 5, 6, 6, 7, 4])"
      ]
     },
     "execution_count": 3,
     "metadata": {},
     "output_type": "execute_result"
    }
   ],
   "source": [
    "m = get_map_data(\"../resources/map.osm\") # Loads map data"
   ]
  },
  {
   "cell_type": "code",
   "execution_count": 4,
   "metadata": {},
   "outputs": [
    {
     "data": {
      "text/plain": [
       "LLA(-43.50831, 172.5751, 0.0)"
      ]
     },
     "execution_count": 4,
     "metadata": {},
     "output_type": "execute_result"
    }
   ],
   "source": [
    "a = LLA(-43.524851, 172.569875)\n",
    "b = LLA(-43.508310, 172.575100)"
   ]
  },
  {
   "cell_type": "code",
   "execution_count": 5,
   "metadata": {},
   "outputs": [
    {
     "data": {
      "text/plain": [
       "1885.684848693565"
      ]
     },
     "execution_count": 5,
     "metadata": {},
     "output_type": "execute_result"
    }
   ],
   "source": [
    "distance(ECEF(a), ECEF(b)) # Not sure why ECEF is neccessary, \n",
    "#it's just an alternative coordinate system"
   ]
  },
  {
   "cell_type": "code",
   "execution_count": 7,
   "metadata": {},
   "outputs": [
    {
     "data": {
      "text/plain": [
       "2959417197"
      ]
     },
     "execution_count": 7,
     "metadata": {},
     "output_type": "execute_result"
    }
   ],
   "source": [
    "a_node = point_to_nodes(a, m) #Nodes on the map instead of lat/lon\n",
    "b_node = point_to_nodes(b, m)"
   ]
  },
  {
   "cell_type": "code",
   "execution_count": 8,
   "metadata": {},
   "outputs": [
    {
     "data": {
      "text/plain": [
       "([6112121635, 6112121633, 6112121638, 6112208530, 6112208527, 6112208524, 6112208520, 487031119, 2378507410, 31246963  …  31064594, 31064591, 489310904, 31472556, 6102675241, 6102675223, 2959415528, 2959417142, 2959415529, 2959417197], 2401.6313900578175, 170.24045743892674)"
      ]
     },
     "execution_count": 8,
     "metadata": {},
     "output_type": "execute_result"
    }
   ],
   "source": [
    "r1 = shortest_route(m, a_node, b_node)"
   ]
  },
  {
   "cell_type": "code",
   "execution_count": 9,
   "metadata": {},
   "outputs": [
    {
     "data": {
      "text/plain": [
       "2401.6313900578175"
      ]
     },
     "execution_count": 9,
     "metadata": {},
     "output_type": "execute_result"
    }
   ],
   "source": [
    "r1[2] # Distance\n",
    "# Note that is is longer than the above straight line distance\n",
    "# This one follows roads"
   ]
  },
  {
   "cell_type": "code",
   "execution_count": 10,
   "metadata": {},
   "outputs": [
    {
     "data": {
      "text/plain": [
       "170.24045743892674"
      ]
     },
     "execution_count": 10,
     "metadata": {},
     "output_type": "execute_result"
    }
   ],
   "source": [
    "r1[3] # Time"
   ]
  },
  {
   "cell_type": "code",
   "execution_count": 11,
   "metadata": {},
   "outputs": [
    {
     "data": {
      "text/plain": [
       "([6112121635, 6112121633, 6112121638, 6112208530, 6112208527, 6112208524, 6112208520, 487031119, 2378507410, 31246963  …  115940050, 31064594, 31064591, 489310904, 5158128741, 6102675009, 6103990849, 6103990850, 2959417152, 2959417197], 2639.0191970294723, 150.09169409554553)"
      ]
     },
     "execution_count": 11,
     "metadata": {},
     "output_type": "execute_result"
    }
   ],
   "source": [
    "r2 = fastest_route(m, a_node, b_node)"
   ]
  },
  {
   "cell_type": "code",
   "execution_count": 12,
   "metadata": {},
   "outputs": [
    {
     "data": {
      "text/plain": [
       "2639.0191970294723"
      ]
     },
     "execution_count": 12,
     "metadata": {},
     "output_type": "execute_result"
    }
   ],
   "source": [
    "r2[2] # Distance is longer now"
   ]
  },
  {
   "cell_type": "code",
   "execution_count": 13,
   "metadata": {},
   "outputs": [
    {
     "data": {
      "text/plain": [
       "150.09169409554553"
      ]
     },
     "execution_count": 13,
     "metadata": {},
     "output_type": "execute_result"
    }
   ],
   "source": [
    "r2[3] # But time is shorter"
   ]
  },
  {
   "cell_type": "code",
   "execution_count": null,
   "metadata": {},
   "outputs": [],
   "source": []
  }
 ],
 "metadata": {
  "kernelspec": {
   "display_name": "Julia 1.3.1",
   "language": "julia",
   "name": "julia-1.3"
  },
  "language_info": {
   "file_extension": ".jl",
   "mimetype": "application/julia",
   "name": "julia",
   "version": "1.3.1"
  }
 },
 "nbformat": 4,
 "nbformat_minor": 4
}
