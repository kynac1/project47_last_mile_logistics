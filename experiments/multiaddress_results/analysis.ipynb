{
 "metadata": {
  "language_info": {
   "codemirror_mode": {
    "name": "ipython",
    "version": 3
   },
   "file_extension": ".py",
   "mimetype": "text/x-python",
   "name": "python",
   "nbconvert_exporter": "python",
   "pygments_lexer": "ipython3",
   "version": "3.8.5-final"
  },
  "orig_nbformat": 2,
  "kernelspec": {
   "name": "Python 3.8.5 64-bit ('.venv': venv)",
   "display_name": "Python 3.8.5 64-bit ('.venv': venv)",
   "metadata": {
    "interpreter": {
     "hash": "9ac702d43d7dfd5eac55e39865f916faecb8d0842320a1339b6d397f14c64635"
    }
   }
  }
 },
 "nbformat": 4,
 "nbformat_minor": 2,
 "cells": [
  {
   "cell_type": "code",
   "execution_count": 46,
   "metadata": {},
   "outputs": [],
   "source": [
    "import json\n",
    "import os"
   ]
  },
  {
   "cell_type": "code",
   "execution_count": 47,
   "metadata": {
    "tags": []
   },
   "outputs": [
    {
     "output_type": "stream",
     "name": "stdout",
     "text": "[(50, 3, 1, 1, 'wait'), (50, 3, 2, 1, 'wait'), (50, 3, 4, 1, 'wait'), (50, 3, 8, 1, 'wait'), (50, 5, 1, 1, 'wait'), (50, 5, 2, 1, 'wait'), (50, 5, 4, 1, 'wait'), (50, 5, 8, 1, 'wait'), (50, 7, 1, 1, 'wait'), (50, 7, 2, 1, 'wait'), (50, 7, 4, 1, 'wait'), (50, 7, 8, 1, 'wait'), (50, 9, 1, 1, 'wait'), (50, 9, 2, 1, 'wait'), (50, 9, 4, 1, 'wait'), (50, 9, 8, 1, 'wait')]\n"
    }
   ],
   "source": [
    "data = {}\n",
    "for fname in os.listdir():\n",
    "    name, ext = os.path.splitext(fname)\n",
    "    if ext == \".json\":\n",
    "        fields = name.split('_')\n",
    "        if fields[0] == 'constant':\n",
    "            fields[1] = int(fields[1])\n",
    "            fields[2] = int(fields[2])\n",
    "            fields[3] = int(fields[3])\n",
    "            fields[4] = int(fields[4])\n",
    "            with open(fname, 'r') as f:\n",
    "                data[tuple(fields[1:6])] = json.load(f)\n",
    "print(list(data.keys()))"
   ]
  },
  {
   "cell_type": "code",
   "execution_count": 48,
   "metadata": {
    "tags": []
   },
   "outputs": [],
   "source": [
    "import matplotlib.pyplot as plt\n",
    "%matplotlib qt"
   ]
  },
  {
   "cell_type": "code",
   "execution_count": 49,
   "metadata": {
    "tags": []
   },
   "outputs": [],
   "source": [
    "packages_over_time = {}\n",
    "for k,v in data.items():\n",
    "    packages_over_time[k] = []\n",
    "    for i in range(len(v)-1):\n",
    "        packages_over_time[k].append(v[i+1]['number_of_packages'] - (v[i]['number_of_packages'] - len(v[i]['delivered_packages']['days_taken'])))"
   ]
  },
  {
   "cell_type": "code",
   "execution_count": 50,
   "metadata": {
    "tags": []
   },
   "outputs": [],
   "source": [
    "plt.cla()\n",
    "for k,v in packages_over_time.items():\n",
    "    if k[4] == 'wait':\n",
    "        plt.plot(v, label=str(k))\n",
    "plt.legend()\n",
    "plt.show()"
   ]
  },
  {
   "cell_type": "code",
   "execution_count": 51,
   "metadata": {},
   "outputs": [],
   "source": [
    "packages_over_time = {}\n",
    "for k,v in data.items():\n",
    "    packages_over_time[k] = [len(d['delivered_packages']['days_taken']) for d in v]"
   ]
  },
  {
   "cell_type": "code",
   "execution_count": 52,
   "metadata": {},
   "outputs": [],
   "source": [
    "plt.cla()\n",
    "for k,v in packages_over_time.items():\n",
    "    if k[4] == 'wait':\n",
    "        plt.plot(v, label=str(k))\n",
    "plt.legend()\n",
    "plt.show()"
   ]
  },
  {
   "cell_type": "code",
   "execution_count": 60,
   "metadata": {},
   "outputs": [],
   "source": [
    "packages_over_time = {}\n",
    "for k,v in data.items():\n",
    "    packages_over_time[k] = [d['number_of_packages'] for d in v]\n",
    "plt.cla()\n",
    "for k,v in packages_over_time.items():\n",
    "    if k[2] < 4:\n",
    "        plt.plot(v, label=str(k))\n",
    "plt.legend()\n",
    "plt.show()"
   ]
  }
 ]
}