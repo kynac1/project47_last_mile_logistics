{
 "cells": [
  {
   "cell_type": "code",
   "execution_count": null,
   "metadata": {},
   "outputs": [],
   "source": [
    "using DataFrames, DataFramesMeta, JSON, Statistics\n",
    "using StatsPlots\n",
    "gr()"
   ]
  },
  {
   "cell_type": "code",
   "execution_count": null,
   "metadata": {},
   "outputs": [],
   "source": [
    "data = []\n",
    "for fname in readdir()\n",
    "    name, ext = splitext(fname)\n",
    "    if ext == \".json\"\n",
    "        fields = split(fname, '_')\n",
    "        if fields[1] == \"poisson\"\n",
    "            j = JSON.parsefile(fname; dicttype=Dict, inttype=Int64)\n",
    "            push!(data, (fields, j, name))\n",
    "        end\n",
    "    end\n",
    "end"
   ]
  },
  {
   "cell_type": "code",
   "execution_count": null,
   "metadata": {},
   "outputs": [],
   "source": [
    "df = DataFrame(\n",
    "    name = String[],\n",
    "    arrival_rate = Int[],\n",
    "    vehicles = Int[],\n",
    "    time_windows = Int[],\n",
    "    locations = Int[],\n",
    "    policy = String[],\n",
    "    day = Int[],\n",
    "    packages = Int[],\n",
    "    avg_days_taken = Float64[],\n",
    "    total_distance = Int[],\n",
    "    total_time = Int[],\n",
    "    deliveries = Int[],\n",
    "    attempted_deliveries = Int[]\n",
    ")\n",
    "for v in data\n",
    "    for record in v[2]\n",
    "        push!(df, (\n",
    "            v[3],\n",
    "            parse(Int, v[1][2]),\n",
    "            parse(Int, v[1][3]),\n",
    "            parse(Int, v[1][4]),\n",
    "            parse(Int, v[1][5]),\n",
    "            v[1][6],\n",
    "            record[\"day\"],\n",
    "            record[\"number_of_packages\"],\n",
    "            mean(record[\"delivered_packages\"][\"days_taken\"]),\n",
    "            sum(record[\"distances\"]),\n",
    "            sum(record[\"times\"]),\n",
    "            length(record[\"delivered_packages\"][\"days_taken\"]),\n",
    "            sum(record[\"deliveries_attempted\"]),\n",
    "        ))\n",
    "    end\n",
    "end"
   ]
  },
  {
   "cell_type": "code",
   "execution_count": null,
   "metadata": {},
   "outputs": [],
   "source": [
    "gr(size=(700,500))\n",
    "@df df plot(\n",
    "    :day, :packages, group = :name, legend = nothing\n",
    ")"
   ]
  }
 ],
 "metadata": {
  "kernelspec": {
   "display_name": "Julia 1.5.0",
   "language": "julia",
   "name": "julia-1.5"
  },
  "language_info": {
   "file_extension": ".jl",
   "mimetype": "application/julia",
   "name": "julia",
   "version": "1.5.0"
  }
 },
 "nbformat": 4,
 "nbformat_minor": 4
}
